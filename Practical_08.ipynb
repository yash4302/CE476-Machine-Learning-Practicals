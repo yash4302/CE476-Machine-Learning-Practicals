{
  "nbformat": 4,
  "nbformat_minor": 0,
  "metadata": {
    "colab": {
      "provenance": [],
      "authorship_tag": "ABX9TyPSQLuWMiUZ1J+cjRVP1/on"
    },
    "kernelspec": {
      "name": "python3",
      "display_name": "Python 3"
    },
    "language_info": {
      "name": "python"
    }
  },
  "cells": [
    {
      "cell_type": "code",
      "execution_count": 1,
      "metadata": {
        "colab": {
          "base_uri": "https://localhost:8080/"
        },
        "id": "eX43IcxdTwEv",
        "outputId": "71928aae-b32a-419d-a891-086de5737f9a"
      },
      "outputs": [
        {
          "output_type": "stream",
          "name": "stdout",
          "text": [
            "Drive already mounted at /content/drive; to attempt to forcibly remount, call drive.mount(\"/content/drive\", force_remount=True).\n",
            "/content/drive\n",
            "/content/drive/MyDrive\n",
            "/content/drive/MyDrive/ML_Practicals\n"
          ]
        }
      ],
      "source": [
        "from google.colab import drive\n",
        "\n",
        "drive.mount('/content/drive')\n",
        "%cd drive\n",
        "%cd MyDrive\n",
        "%cd ML_Practicals"
      ]
    },
    {
      "cell_type": "code",
      "source": [
        "import numpy as np\n",
        "import pandas as pd\n",
        "import matplotlib.pyplot as plt\n",
        "from tensorflow import keras\n",
        "import tensorflow as tf\n",
        "\n",
        "%matplotlib inline\n",
        "\n",
        "print('Tensorflow Version : ', tf.__version__)"
      ],
      "metadata": {
        "colab": {
          "base_uri": "https://localhost:8080/"
        },
        "id": "j5AuMq4XU4HP",
        "outputId": "05f2e2fb-b036-43b5-c0ee-cbc9dcc2dd28"
      },
      "execution_count": 2,
      "outputs": [
        {
          "output_type": "stream",
          "name": "stdout",
          "text": [
            "Tensorflow Version :  2.8.2\n"
          ]
        }
      ]
    },
    {
      "cell_type": "code",
      "source": [
        "raw_df = pd.read_csv('Seed_Data.csv', na_values=' ', comment='\\t', skipinitialspace=True)\n",
        "df = raw_df.copy()\n",
        "df.tail()"
      ],
      "metadata": {
        "colab": {
          "base_uri": "https://localhost:8080/",
          "height": 206
        },
        "id": "TIExZfOEVk1r",
        "outputId": "018837be-b0d3-461a-f4d2-585859b88aa4"
      },
      "execution_count": 3,
      "outputs": [
        {
          "output_type": "execute_result",
          "data": {
            "text/plain": [
              "         A      P       C     LK     WK  A_Coef    LKG  target\n",
              "205  12.19  13.20  0.8783  5.137  2.981   3.631  4.870       2\n",
              "206  11.23  12.88  0.8511  5.140  2.795   4.325  5.003       2\n",
              "207  13.20  13.66  0.8883  5.236  3.232   8.315  5.056       2\n",
              "208  11.84  13.21  0.8521  5.175  2.836   3.598  5.044       2\n",
              "209  12.30  13.34  0.8684  5.243  2.974   5.637  5.063       2"
            ],
            "text/html": [
              "\n",
              "  <div id=\"df-ca6ad29d-ca2f-4868-ab6c-3a7925f3d476\">\n",
              "    <div class=\"colab-df-container\">\n",
              "      <div>\n",
              "<style scoped>\n",
              "    .dataframe tbody tr th:only-of-type {\n",
              "        vertical-align: middle;\n",
              "    }\n",
              "\n",
              "    .dataframe tbody tr th {\n",
              "        vertical-align: top;\n",
              "    }\n",
              "\n",
              "    .dataframe thead th {\n",
              "        text-align: right;\n",
              "    }\n",
              "</style>\n",
              "<table border=\"1\" class=\"dataframe\">\n",
              "  <thead>\n",
              "    <tr style=\"text-align: right;\">\n",
              "      <th></th>\n",
              "      <th>A</th>\n",
              "      <th>P</th>\n",
              "      <th>C</th>\n",
              "      <th>LK</th>\n",
              "      <th>WK</th>\n",
              "      <th>A_Coef</th>\n",
              "      <th>LKG</th>\n",
              "      <th>target</th>\n",
              "    </tr>\n",
              "  </thead>\n",
              "  <tbody>\n",
              "    <tr>\n",
              "      <th>205</th>\n",
              "      <td>12.19</td>\n",
              "      <td>13.20</td>\n",
              "      <td>0.8783</td>\n",
              "      <td>5.137</td>\n",
              "      <td>2.981</td>\n",
              "      <td>3.631</td>\n",
              "      <td>4.870</td>\n",
              "      <td>2</td>\n",
              "    </tr>\n",
              "    <tr>\n",
              "      <th>206</th>\n",
              "      <td>11.23</td>\n",
              "      <td>12.88</td>\n",
              "      <td>0.8511</td>\n",
              "      <td>5.140</td>\n",
              "      <td>2.795</td>\n",
              "      <td>4.325</td>\n",
              "      <td>5.003</td>\n",
              "      <td>2</td>\n",
              "    </tr>\n",
              "    <tr>\n",
              "      <th>207</th>\n",
              "      <td>13.20</td>\n",
              "      <td>13.66</td>\n",
              "      <td>0.8883</td>\n",
              "      <td>5.236</td>\n",
              "      <td>3.232</td>\n",
              "      <td>8.315</td>\n",
              "      <td>5.056</td>\n",
              "      <td>2</td>\n",
              "    </tr>\n",
              "    <tr>\n",
              "      <th>208</th>\n",
              "      <td>11.84</td>\n",
              "      <td>13.21</td>\n",
              "      <td>0.8521</td>\n",
              "      <td>5.175</td>\n",
              "      <td>2.836</td>\n",
              "      <td>3.598</td>\n",
              "      <td>5.044</td>\n",
              "      <td>2</td>\n",
              "    </tr>\n",
              "    <tr>\n",
              "      <th>209</th>\n",
              "      <td>12.30</td>\n",
              "      <td>13.34</td>\n",
              "      <td>0.8684</td>\n",
              "      <td>5.243</td>\n",
              "      <td>2.974</td>\n",
              "      <td>5.637</td>\n",
              "      <td>5.063</td>\n",
              "      <td>2</td>\n",
              "    </tr>\n",
              "  </tbody>\n",
              "</table>\n",
              "</div>\n",
              "      <button class=\"colab-df-convert\" onclick=\"convertToInteractive('df-ca6ad29d-ca2f-4868-ab6c-3a7925f3d476')\"\n",
              "              title=\"Convert this dataframe to an interactive table.\"\n",
              "              style=\"display:none;\">\n",
              "        \n",
              "  <svg xmlns=\"http://www.w3.org/2000/svg\" height=\"24px\"viewBox=\"0 0 24 24\"\n",
              "       width=\"24px\">\n",
              "    <path d=\"M0 0h24v24H0V0z\" fill=\"none\"/>\n",
              "    <path d=\"M18.56 5.44l.94 2.06.94-2.06 2.06-.94-2.06-.94-.94-2.06-.94 2.06-2.06.94zm-11 1L8.5 8.5l.94-2.06 2.06-.94-2.06-.94L8.5 2.5l-.94 2.06-2.06.94zm10 10l.94 2.06.94-2.06 2.06-.94-2.06-.94-.94-2.06-.94 2.06-2.06.94z\"/><path d=\"M17.41 7.96l-1.37-1.37c-.4-.4-.92-.59-1.43-.59-.52 0-1.04.2-1.43.59L10.3 9.45l-7.72 7.72c-.78.78-.78 2.05 0 2.83L4 21.41c.39.39.9.59 1.41.59.51 0 1.02-.2 1.41-.59l7.78-7.78 2.81-2.81c.8-.78.8-2.07 0-2.86zM5.41 20L4 18.59l7.72-7.72 1.47 1.35L5.41 20z\"/>\n",
              "  </svg>\n",
              "      </button>\n",
              "      \n",
              "  <style>\n",
              "    .colab-df-container {\n",
              "      display:flex;\n",
              "      flex-wrap:wrap;\n",
              "      gap: 12px;\n",
              "    }\n",
              "\n",
              "    .colab-df-convert {\n",
              "      background-color: #E8F0FE;\n",
              "      border: none;\n",
              "      border-radius: 50%;\n",
              "      cursor: pointer;\n",
              "      display: none;\n",
              "      fill: #1967D2;\n",
              "      height: 32px;\n",
              "      padding: 0 0 0 0;\n",
              "      width: 32px;\n",
              "    }\n",
              "\n",
              "    .colab-df-convert:hover {\n",
              "      background-color: #E2EBFA;\n",
              "      box-shadow: 0px 1px 2px rgba(60, 64, 67, 0.3), 0px 1px 3px 1px rgba(60, 64, 67, 0.15);\n",
              "      fill: #174EA6;\n",
              "    }\n",
              "\n",
              "    [theme=dark] .colab-df-convert {\n",
              "      background-color: #3B4455;\n",
              "      fill: #D2E3FC;\n",
              "    }\n",
              "\n",
              "    [theme=dark] .colab-df-convert:hover {\n",
              "      background-color: #434B5C;\n",
              "      box-shadow: 0px 1px 3px 1px rgba(0, 0, 0, 0.15);\n",
              "      filter: drop-shadow(0px 1px 2px rgba(0, 0, 0, 0.3));\n",
              "      fill: #FFFFFF;\n",
              "    }\n",
              "  </style>\n",
              "\n",
              "      <script>\n",
              "        const buttonEl =\n",
              "          document.querySelector('#df-ca6ad29d-ca2f-4868-ab6c-3a7925f3d476 button.colab-df-convert');\n",
              "        buttonEl.style.display =\n",
              "          google.colab.kernel.accessAllowed ? 'block' : 'none';\n",
              "\n",
              "        async function convertToInteractive(key) {\n",
              "          const element = document.querySelector('#df-ca6ad29d-ca2f-4868-ab6c-3a7925f3d476');\n",
              "          const dataTable =\n",
              "            await google.colab.kernel.invokeFunction('convertToInteractive',\n",
              "                                                     [key], {});\n",
              "          if (!dataTable) return;\n",
              "\n",
              "          const docLinkHtml = 'Like what you see? Visit the ' +\n",
              "            '<a target=\"_blank\" href=https://colab.research.google.com/notebooks/data_table.ipynb>data table notebook</a>'\n",
              "            + ' to learn more about interactive tables.';\n",
              "          element.innerHTML = '';\n",
              "          dataTable['output_type'] = 'display_data';\n",
              "          await google.colab.output.renderOutput(dataTable, element);\n",
              "          const docLink = document.createElement('div');\n",
              "          docLink.innerHTML = docLinkHtml;\n",
              "          element.appendChild(docLink);\n",
              "        }\n",
              "      </script>\n",
              "    </div>\n",
              "  </div>\n",
              "  "
            ]
          },
          "metadata": {},
          "execution_count": 3
        }
      ]
    },
    {
      "cell_type": "code",
      "source": [
        "train_df = df.sample(frac=0.8, random_state=0)\n",
        "test_df = df.drop(train_df.index)\n",
        "\n",
        "train_label = train_df.pop('target')\n",
        "test_label = test_df.pop('target')"
      ],
      "metadata": {
        "id": "Ybg52_0_V75C"
      },
      "execution_count": 4,
      "outputs": []
    },
    {
      "cell_type": "code",
      "source": [
        "train_df.describe().transpose()"
      ],
      "metadata": {
        "colab": {
          "base_uri": "https://localhost:8080/",
          "height": 269
        },
        "id": "aMPlegDxWkPA",
        "outputId": "9b8383d6-4262-4b34-c205-e8fa7cea8da5"
      },
      "execution_count": 5,
      "outputs": [
        {
          "output_type": "execute_result",
          "data": {
            "text/plain": [
              "        count       mean       std      min       25%       50%        75%  \\\n",
              "A       168.0  14.850060  2.850291  10.5900  12.29000  14.44500  17.140000   \n",
              "P       168.0  14.560952  1.275165  12.4100  13.46500  14.38000  15.662500   \n",
              "C       168.0   0.871299  0.024270   0.8081   0.85730   0.87395   0.887925   \n",
              "LK      168.0   5.625387  0.433835   4.8990   5.26275   5.53400   5.984500   \n",
              "WK      168.0   3.259893  0.374640   2.6480   2.95100   3.25150   3.531750   \n",
              "A_Coef  168.0   3.641721  1.527259   0.7651   2.46175   3.52950   4.685500   \n",
              "LKG     168.0   5.399649  0.491331   4.5190   5.04400   5.22050   5.877000   \n",
              "\n",
              "            max  \n",
              "A       20.9700  \n",
              "P       17.2500  \n",
              "C        0.9183  \n",
              "LK       6.6750  \n",
              "WK       4.0320  \n",
              "A_Coef   8.4560  \n",
              "LKG      6.5500  "
            ],
            "text/html": [
              "\n",
              "  <div id=\"df-1893a2aa-12d0-49e4-937a-27b19685877f\">\n",
              "    <div class=\"colab-df-container\">\n",
              "      <div>\n",
              "<style scoped>\n",
              "    .dataframe tbody tr th:only-of-type {\n",
              "        vertical-align: middle;\n",
              "    }\n",
              "\n",
              "    .dataframe tbody tr th {\n",
              "        vertical-align: top;\n",
              "    }\n",
              "\n",
              "    .dataframe thead th {\n",
              "        text-align: right;\n",
              "    }\n",
              "</style>\n",
              "<table border=\"1\" class=\"dataframe\">\n",
              "  <thead>\n",
              "    <tr style=\"text-align: right;\">\n",
              "      <th></th>\n",
              "      <th>count</th>\n",
              "      <th>mean</th>\n",
              "      <th>std</th>\n",
              "      <th>min</th>\n",
              "      <th>25%</th>\n",
              "      <th>50%</th>\n",
              "      <th>75%</th>\n",
              "      <th>max</th>\n",
              "    </tr>\n",
              "  </thead>\n",
              "  <tbody>\n",
              "    <tr>\n",
              "      <th>A</th>\n",
              "      <td>168.0</td>\n",
              "      <td>14.850060</td>\n",
              "      <td>2.850291</td>\n",
              "      <td>10.5900</td>\n",
              "      <td>12.29000</td>\n",
              "      <td>14.44500</td>\n",
              "      <td>17.140000</td>\n",
              "      <td>20.9700</td>\n",
              "    </tr>\n",
              "    <tr>\n",
              "      <th>P</th>\n",
              "      <td>168.0</td>\n",
              "      <td>14.560952</td>\n",
              "      <td>1.275165</td>\n",
              "      <td>12.4100</td>\n",
              "      <td>13.46500</td>\n",
              "      <td>14.38000</td>\n",
              "      <td>15.662500</td>\n",
              "      <td>17.2500</td>\n",
              "    </tr>\n",
              "    <tr>\n",
              "      <th>C</th>\n",
              "      <td>168.0</td>\n",
              "      <td>0.871299</td>\n",
              "      <td>0.024270</td>\n",
              "      <td>0.8081</td>\n",
              "      <td>0.85730</td>\n",
              "      <td>0.87395</td>\n",
              "      <td>0.887925</td>\n",
              "      <td>0.9183</td>\n",
              "    </tr>\n",
              "    <tr>\n",
              "      <th>LK</th>\n",
              "      <td>168.0</td>\n",
              "      <td>5.625387</td>\n",
              "      <td>0.433835</td>\n",
              "      <td>4.8990</td>\n",
              "      <td>5.26275</td>\n",
              "      <td>5.53400</td>\n",
              "      <td>5.984500</td>\n",
              "      <td>6.6750</td>\n",
              "    </tr>\n",
              "    <tr>\n",
              "      <th>WK</th>\n",
              "      <td>168.0</td>\n",
              "      <td>3.259893</td>\n",
              "      <td>0.374640</td>\n",
              "      <td>2.6480</td>\n",
              "      <td>2.95100</td>\n",
              "      <td>3.25150</td>\n",
              "      <td>3.531750</td>\n",
              "      <td>4.0320</td>\n",
              "    </tr>\n",
              "    <tr>\n",
              "      <th>A_Coef</th>\n",
              "      <td>168.0</td>\n",
              "      <td>3.641721</td>\n",
              "      <td>1.527259</td>\n",
              "      <td>0.7651</td>\n",
              "      <td>2.46175</td>\n",
              "      <td>3.52950</td>\n",
              "      <td>4.685500</td>\n",
              "      <td>8.4560</td>\n",
              "    </tr>\n",
              "    <tr>\n",
              "      <th>LKG</th>\n",
              "      <td>168.0</td>\n",
              "      <td>5.399649</td>\n",
              "      <td>0.491331</td>\n",
              "      <td>4.5190</td>\n",
              "      <td>5.04400</td>\n",
              "      <td>5.22050</td>\n",
              "      <td>5.877000</td>\n",
              "      <td>6.5500</td>\n",
              "    </tr>\n",
              "  </tbody>\n",
              "</table>\n",
              "</div>\n",
              "      <button class=\"colab-df-convert\" onclick=\"convertToInteractive('df-1893a2aa-12d0-49e4-937a-27b19685877f')\"\n",
              "              title=\"Convert this dataframe to an interactive table.\"\n",
              "              style=\"display:none;\">\n",
              "        \n",
              "  <svg xmlns=\"http://www.w3.org/2000/svg\" height=\"24px\"viewBox=\"0 0 24 24\"\n",
              "       width=\"24px\">\n",
              "    <path d=\"M0 0h24v24H0V0z\" fill=\"none\"/>\n",
              "    <path d=\"M18.56 5.44l.94 2.06.94-2.06 2.06-.94-2.06-.94-.94-2.06-.94 2.06-2.06.94zm-11 1L8.5 8.5l.94-2.06 2.06-.94-2.06-.94L8.5 2.5l-.94 2.06-2.06.94zm10 10l.94 2.06.94-2.06 2.06-.94-2.06-.94-.94-2.06-.94 2.06-2.06.94z\"/><path d=\"M17.41 7.96l-1.37-1.37c-.4-.4-.92-.59-1.43-.59-.52 0-1.04.2-1.43.59L10.3 9.45l-7.72 7.72c-.78.78-.78 2.05 0 2.83L4 21.41c.39.39.9.59 1.41.59.51 0 1.02-.2 1.41-.59l7.78-7.78 2.81-2.81c.8-.78.8-2.07 0-2.86zM5.41 20L4 18.59l7.72-7.72 1.47 1.35L5.41 20z\"/>\n",
              "  </svg>\n",
              "      </button>\n",
              "      \n",
              "  <style>\n",
              "    .colab-df-container {\n",
              "      display:flex;\n",
              "      flex-wrap:wrap;\n",
              "      gap: 12px;\n",
              "    }\n",
              "\n",
              "    .colab-df-convert {\n",
              "      background-color: #E8F0FE;\n",
              "      border: none;\n",
              "      border-radius: 50%;\n",
              "      cursor: pointer;\n",
              "      display: none;\n",
              "      fill: #1967D2;\n",
              "      height: 32px;\n",
              "      padding: 0 0 0 0;\n",
              "      width: 32px;\n",
              "    }\n",
              "\n",
              "    .colab-df-convert:hover {\n",
              "      background-color: #E2EBFA;\n",
              "      box-shadow: 0px 1px 2px rgba(60, 64, 67, 0.3), 0px 1px 3px 1px rgba(60, 64, 67, 0.15);\n",
              "      fill: #174EA6;\n",
              "    }\n",
              "\n",
              "    [theme=dark] .colab-df-convert {\n",
              "      background-color: #3B4455;\n",
              "      fill: #D2E3FC;\n",
              "    }\n",
              "\n",
              "    [theme=dark] .colab-df-convert:hover {\n",
              "      background-color: #434B5C;\n",
              "      box-shadow: 0px 1px 3px 1px rgba(0, 0, 0, 0.15);\n",
              "      filter: drop-shadow(0px 1px 2px rgba(0, 0, 0, 0.3));\n",
              "      fill: #FFFFFF;\n",
              "    }\n",
              "  </style>\n",
              "\n",
              "      <script>\n",
              "        const buttonEl =\n",
              "          document.querySelector('#df-1893a2aa-12d0-49e4-937a-27b19685877f button.colab-df-convert');\n",
              "        buttonEl.style.display =\n",
              "          google.colab.kernel.accessAllowed ? 'block' : 'none';\n",
              "\n",
              "        async function convertToInteractive(key) {\n",
              "          const element = document.querySelector('#df-1893a2aa-12d0-49e4-937a-27b19685877f');\n",
              "          const dataTable =\n",
              "            await google.colab.kernel.invokeFunction('convertToInteractive',\n",
              "                                                     [key], {});\n",
              "          if (!dataTable) return;\n",
              "\n",
              "          const docLinkHtml = 'Like what you see? Visit the ' +\n",
              "            '<a target=\"_blank\" href=https://colab.research.google.com/notebooks/data_table.ipynb>data table notebook</a>'\n",
              "            + ' to learn more about interactive tables.';\n",
              "          element.innerHTML = '';\n",
              "          dataTable['output_type'] = 'display_data';\n",
              "          await google.colab.output.renderOutput(dataTable, element);\n",
              "          const docLink = document.createElement('div');\n",
              "          docLink.innerHTML = docLinkHtml;\n",
              "          element.appendChild(docLink);\n",
              "        }\n",
              "      </script>\n",
              "    </div>\n",
              "  </div>\n",
              "  "
            ]
          },
          "metadata": {},
          "execution_count": 5
        }
      ]
    },
    {
      "cell_type": "code",
      "source": [
        "def normalize(df):\n",
        "  return (df - np.mean(train_df))/np.std(train_df)\n",
        "\n",
        "normed_train_df = normalize(train_df)\n",
        "normed_test_df = normalize(test_df)"
      ],
      "metadata": {
        "id": "ppEjXtxyWm4r"
      },
      "execution_count": 6,
      "outputs": []
    },
    {
      "cell_type": "code",
      "source": [
        "model = keras.Sequential([\n",
        "    keras.layers.Dense(96, activation='relu', input_shape=[len(train_df.keys())]),\n",
        "    keras.layers.Dense(64, activation='relu'),\n",
        "    keras.layers.Dense(32, activation='relu'),\n",
        "    keras.layers.Dense(3, activation='softmax')\n",
        "])"
      ],
      "metadata": {
        "id": "4ZvzaPpWXAr9"
      },
      "execution_count": 7,
      "outputs": []
    },
    {
      "cell_type": "code",
      "source": [
        "cce = tf.keras.losses.SparseCategoricalCrossentropy()\n",
        "\n",
        "model.compile(\n",
        "    loss = cce,\n",
        "    optimizer = tf.keras.optimizers.RMSprop(0.001),\n",
        "    metrics = ['accuracy']\n",
        ")"
      ],
      "metadata": {
        "id": "k8JwWGC2Xfc4"
      },
      "execution_count": 8,
      "outputs": []
    },
    {
      "cell_type": "code",
      "source": [
        "model.summary()"
      ],
      "metadata": {
        "colab": {
          "base_uri": "https://localhost:8080/"
        },
        "id": "LpdTc3YFX3es",
        "outputId": "4efc03e2-70f4-46b8-9914-08b1565b1ea3"
      },
      "execution_count": 9,
      "outputs": [
        {
          "output_type": "stream",
          "name": "stdout",
          "text": [
            "Model: \"sequential\"\n",
            "_________________________________________________________________\n",
            " Layer (type)                Output Shape              Param #   \n",
            "=================================================================\n",
            " dense (Dense)               (None, 96)                768       \n",
            "                                                                 \n",
            " dense_1 (Dense)             (None, 64)                6208      \n",
            "                                                                 \n",
            " dense_2 (Dense)             (None, 32)                2080      \n",
            "                                                                 \n",
            " dense_3 (Dense)             (None, 3)                 99        \n",
            "                                                                 \n",
            "=================================================================\n",
            "Total params: 9,155\n",
            "Trainable params: 9,155\n",
            "Non-trainable params: 0\n",
            "_________________________________________________________________\n"
          ]
        }
      ]
    },
    {
      "cell_type": "code",
      "source": [
        "from keras.callbacks import EarlyStopping\n",
        "\n",
        "EPOCHS = 100\n",
        "es = EarlyStopping(\n",
        "    monitor = 'val_loss',\n",
        "    mode = 'min',\n",
        "    verbose = 1,\n",
        "    patience = 5\n",
        ")\n",
        "history = model.fit(\n",
        "    normed_train_df,\n",
        "    train_label,\n",
        "    epochs = EPOCHS,\n",
        "    validation_split = 0.2,\n",
        "    verbose = 1,\n",
        "    callbacks = [es]\n",
        ")"
      ],
      "metadata": {
        "colab": {
          "base_uri": "https://localhost:8080/"
        },
        "id": "ivTDd0PVYSOP",
        "outputId": "0629ad60-92ae-4c28-ab39-3ea02874110f"
      },
      "execution_count": 10,
      "outputs": [
        {
          "output_type": "stream",
          "name": "stdout",
          "text": [
            "Epoch 1/100\n",
            "5/5 [==============================] - 2s 125ms/step - loss: 0.9519 - accuracy: 0.6716 - val_loss: 0.6814 - val_accuracy: 0.9706\n",
            "Epoch 2/100\n",
            "5/5 [==============================] - 0s 12ms/step - loss: 0.6557 - accuracy: 0.9179 - val_loss: 0.5077 - val_accuracy: 0.9706\n",
            "Epoch 3/100\n",
            "5/5 [==============================] - 0s 14ms/step - loss: 0.5119 - accuracy: 0.9104 - val_loss: 0.3962 - val_accuracy: 1.0000\n",
            "Epoch 4/100\n",
            "5/5 [==============================] - 0s 17ms/step - loss: 0.4155 - accuracy: 0.9030 - val_loss: 0.3150 - val_accuracy: 0.9706\n",
            "Epoch 5/100\n",
            "5/5 [==============================] - 0s 18ms/step - loss: 0.3473 - accuracy: 0.9104 - val_loss: 0.2533 - val_accuracy: 0.9706\n",
            "Epoch 6/100\n",
            "5/5 [==============================] - 0s 14ms/step - loss: 0.3050 - accuracy: 0.9104 - val_loss: 0.2174 - val_accuracy: 0.9706\n",
            "Epoch 7/100\n",
            "5/5 [==============================] - 0s 33ms/step - loss: 0.2776 - accuracy: 0.9179 - val_loss: 0.1959 - val_accuracy: 0.9706\n",
            "Epoch 8/100\n",
            "5/5 [==============================] - 0s 21ms/step - loss: 0.2545 - accuracy: 0.9179 - val_loss: 0.1904 - val_accuracy: 0.9706\n",
            "Epoch 9/100\n",
            "5/5 [==============================] - 0s 13ms/step - loss: 0.2401 - accuracy: 0.9104 - val_loss: 0.1583 - val_accuracy: 0.9706\n",
            "Epoch 10/100\n",
            "5/5 [==============================] - 0s 12ms/step - loss: 0.2291 - accuracy: 0.9254 - val_loss: 0.1482 - val_accuracy: 0.9706\n",
            "Epoch 11/100\n",
            "5/5 [==============================] - 0s 13ms/step - loss: 0.2182 - accuracy: 0.9179 - val_loss: 0.1428 - val_accuracy: 0.9706\n",
            "Epoch 12/100\n",
            "5/5 [==============================] - 0s 17ms/step - loss: 0.2074 - accuracy: 0.9179 - val_loss: 0.1247 - val_accuracy: 0.9706\n",
            "Epoch 13/100\n",
            "5/5 [==============================] - 0s 13ms/step - loss: 0.2039 - accuracy: 0.9254 - val_loss: 0.1346 - val_accuracy: 0.9706\n",
            "Epoch 14/100\n",
            "5/5 [==============================] - 0s 22ms/step - loss: 0.1884 - accuracy: 0.9254 - val_loss: 0.1241 - val_accuracy: 0.9706\n",
            "Epoch 15/100\n",
            "5/5 [==============================] - 0s 20ms/step - loss: 0.1818 - accuracy: 0.9328 - val_loss: 0.1477 - val_accuracy: 0.9706\n",
            "Epoch 16/100\n",
            "5/5 [==============================] - 0s 20ms/step - loss: 0.1880 - accuracy: 0.9403 - val_loss: 0.1327 - val_accuracy: 0.9706\n",
            "Epoch 17/100\n",
            "5/5 [==============================] - 0s 19ms/step - loss: 0.1751 - accuracy: 0.9328 - val_loss: 0.1130 - val_accuracy: 0.9706\n",
            "Epoch 18/100\n",
            "5/5 [==============================] - 0s 14ms/step - loss: 0.1691 - accuracy: 0.9328 - val_loss: 0.1164 - val_accuracy: 0.9706\n",
            "Epoch 19/100\n",
            "5/5 [==============================] - 0s 11ms/step - loss: 0.1609 - accuracy: 0.9254 - val_loss: 0.1070 - val_accuracy: 0.9706\n",
            "Epoch 20/100\n",
            "5/5 [==============================] - 0s 12ms/step - loss: 0.1529 - accuracy: 0.9328 - val_loss: 0.1123 - val_accuracy: 0.9706\n",
            "Epoch 21/100\n",
            "5/5 [==============================] - 0s 13ms/step - loss: 0.1545 - accuracy: 0.9254 - val_loss: 0.0890 - val_accuracy: 0.9706\n",
            "Epoch 22/100\n",
            "5/5 [==============================] - 0s 16ms/step - loss: 0.1431 - accuracy: 0.9403 - val_loss: 0.1310 - val_accuracy: 0.9706\n",
            "Epoch 23/100\n",
            "5/5 [==============================] - 0s 32ms/step - loss: 0.1540 - accuracy: 0.9328 - val_loss: 0.1035 - val_accuracy: 0.9706\n",
            "Epoch 24/100\n",
            "5/5 [==============================] - 0s 18ms/step - loss: 0.1358 - accuracy: 0.9328 - val_loss: 0.0947 - val_accuracy: 0.9706\n",
            "Epoch 25/100\n",
            "5/5 [==============================] - 0s 18ms/step - loss: 0.1403 - accuracy: 0.9403 - val_loss: 0.1073 - val_accuracy: 0.9706\n",
            "Epoch 26/100\n",
            "5/5 [==============================] - 0s 14ms/step - loss: 0.1317 - accuracy: 0.9403 - val_loss: 0.1281 - val_accuracy: 0.9706\n",
            "Epoch 26: early stopping\n"
          ]
        }
      ]
    },
    {
      "cell_type": "code",
      "source": [
        "hist = pd.DataFrame(history.history)\n",
        "hist['epoch'] = history.epoch\n",
        "hist.tail()"
      ],
      "metadata": {
        "colab": {
          "base_uri": "https://localhost:8080/",
          "height": 206
        },
        "id": "lTKPbUI8ZArs",
        "outputId": "6a1e4ba7-52a2-40b1-9597-3c1dc1ae03e2"
      },
      "execution_count": 11,
      "outputs": [
        {
          "output_type": "execute_result",
          "data": {
            "text/plain": [
              "        loss  accuracy  val_loss  val_accuracy  epoch\n",
              "21  0.143085  0.940298  0.130983      0.970588     21\n",
              "22  0.154033  0.932836  0.103472      0.970588     22\n",
              "23  0.135828  0.932836  0.094712      0.970588     23\n",
              "24  0.140306  0.940298  0.107304      0.970588     24\n",
              "25  0.131672  0.940298  0.128121      0.970588     25"
            ],
            "text/html": [
              "\n",
              "  <div id=\"df-4cb21ffc-68fd-4d23-852b-69cbd8a0a5f0\">\n",
              "    <div class=\"colab-df-container\">\n",
              "      <div>\n",
              "<style scoped>\n",
              "    .dataframe tbody tr th:only-of-type {\n",
              "        vertical-align: middle;\n",
              "    }\n",
              "\n",
              "    .dataframe tbody tr th {\n",
              "        vertical-align: top;\n",
              "    }\n",
              "\n",
              "    .dataframe thead th {\n",
              "        text-align: right;\n",
              "    }\n",
              "</style>\n",
              "<table border=\"1\" class=\"dataframe\">\n",
              "  <thead>\n",
              "    <tr style=\"text-align: right;\">\n",
              "      <th></th>\n",
              "      <th>loss</th>\n",
              "      <th>accuracy</th>\n",
              "      <th>val_loss</th>\n",
              "      <th>val_accuracy</th>\n",
              "      <th>epoch</th>\n",
              "    </tr>\n",
              "  </thead>\n",
              "  <tbody>\n",
              "    <tr>\n",
              "      <th>21</th>\n",
              "      <td>0.143085</td>\n",
              "      <td>0.940298</td>\n",
              "      <td>0.130983</td>\n",
              "      <td>0.970588</td>\n",
              "      <td>21</td>\n",
              "    </tr>\n",
              "    <tr>\n",
              "      <th>22</th>\n",
              "      <td>0.154033</td>\n",
              "      <td>0.932836</td>\n",
              "      <td>0.103472</td>\n",
              "      <td>0.970588</td>\n",
              "      <td>22</td>\n",
              "    </tr>\n",
              "    <tr>\n",
              "      <th>23</th>\n",
              "      <td>0.135828</td>\n",
              "      <td>0.932836</td>\n",
              "      <td>0.094712</td>\n",
              "      <td>0.970588</td>\n",
              "      <td>23</td>\n",
              "    </tr>\n",
              "    <tr>\n",
              "      <th>24</th>\n",
              "      <td>0.140306</td>\n",
              "      <td>0.940298</td>\n",
              "      <td>0.107304</td>\n",
              "      <td>0.970588</td>\n",
              "      <td>24</td>\n",
              "    </tr>\n",
              "    <tr>\n",
              "      <th>25</th>\n",
              "      <td>0.131672</td>\n",
              "      <td>0.940298</td>\n",
              "      <td>0.128121</td>\n",
              "      <td>0.970588</td>\n",
              "      <td>25</td>\n",
              "    </tr>\n",
              "  </tbody>\n",
              "</table>\n",
              "</div>\n",
              "      <button class=\"colab-df-convert\" onclick=\"convertToInteractive('df-4cb21ffc-68fd-4d23-852b-69cbd8a0a5f0')\"\n",
              "              title=\"Convert this dataframe to an interactive table.\"\n",
              "              style=\"display:none;\">\n",
              "        \n",
              "  <svg xmlns=\"http://www.w3.org/2000/svg\" height=\"24px\"viewBox=\"0 0 24 24\"\n",
              "       width=\"24px\">\n",
              "    <path d=\"M0 0h24v24H0V0z\" fill=\"none\"/>\n",
              "    <path d=\"M18.56 5.44l.94 2.06.94-2.06 2.06-.94-2.06-.94-.94-2.06-.94 2.06-2.06.94zm-11 1L8.5 8.5l.94-2.06 2.06-.94-2.06-.94L8.5 2.5l-.94 2.06-2.06.94zm10 10l.94 2.06.94-2.06 2.06-.94-2.06-.94-.94-2.06-.94 2.06-2.06.94z\"/><path d=\"M17.41 7.96l-1.37-1.37c-.4-.4-.92-.59-1.43-.59-.52 0-1.04.2-1.43.59L10.3 9.45l-7.72 7.72c-.78.78-.78 2.05 0 2.83L4 21.41c.39.39.9.59 1.41.59.51 0 1.02-.2 1.41-.59l7.78-7.78 2.81-2.81c.8-.78.8-2.07 0-2.86zM5.41 20L4 18.59l7.72-7.72 1.47 1.35L5.41 20z\"/>\n",
              "  </svg>\n",
              "      </button>\n",
              "      \n",
              "  <style>\n",
              "    .colab-df-container {\n",
              "      display:flex;\n",
              "      flex-wrap:wrap;\n",
              "      gap: 12px;\n",
              "    }\n",
              "\n",
              "    .colab-df-convert {\n",
              "      background-color: #E8F0FE;\n",
              "      border: none;\n",
              "      border-radius: 50%;\n",
              "      cursor: pointer;\n",
              "      display: none;\n",
              "      fill: #1967D2;\n",
              "      height: 32px;\n",
              "      padding: 0 0 0 0;\n",
              "      width: 32px;\n",
              "    }\n",
              "\n",
              "    .colab-df-convert:hover {\n",
              "      background-color: #E2EBFA;\n",
              "      box-shadow: 0px 1px 2px rgba(60, 64, 67, 0.3), 0px 1px 3px 1px rgba(60, 64, 67, 0.15);\n",
              "      fill: #174EA6;\n",
              "    }\n",
              "\n",
              "    [theme=dark] .colab-df-convert {\n",
              "      background-color: #3B4455;\n",
              "      fill: #D2E3FC;\n",
              "    }\n",
              "\n",
              "    [theme=dark] .colab-df-convert:hover {\n",
              "      background-color: #434B5C;\n",
              "      box-shadow: 0px 1px 3px 1px rgba(0, 0, 0, 0.15);\n",
              "      filter: drop-shadow(0px 1px 2px rgba(0, 0, 0, 0.3));\n",
              "      fill: #FFFFFF;\n",
              "    }\n",
              "  </style>\n",
              "\n",
              "      <script>\n",
              "        const buttonEl =\n",
              "          document.querySelector('#df-4cb21ffc-68fd-4d23-852b-69cbd8a0a5f0 button.colab-df-convert');\n",
              "        buttonEl.style.display =\n",
              "          google.colab.kernel.accessAllowed ? 'block' : 'none';\n",
              "\n",
              "        async function convertToInteractive(key) {\n",
              "          const element = document.querySelector('#df-4cb21ffc-68fd-4d23-852b-69cbd8a0a5f0');\n",
              "          const dataTable =\n",
              "            await google.colab.kernel.invokeFunction('convertToInteractive',\n",
              "                                                     [key], {});\n",
              "          if (!dataTable) return;\n",
              "\n",
              "          const docLinkHtml = 'Like what you see? Visit the ' +\n",
              "            '<a target=\"_blank\" href=https://colab.research.google.com/notebooks/data_table.ipynb>data table notebook</a>'\n",
              "            + ' to learn more about interactive tables.';\n",
              "          element.innerHTML = '';\n",
              "          dataTable['output_type'] = 'display_data';\n",
              "          await google.colab.output.renderOutput(dataTable, element);\n",
              "          const docLink = document.createElement('div');\n",
              "          docLink.innerHTML = docLinkHtml;\n",
              "          element.appendChild(docLink);\n",
              "        }\n",
              "      </script>\n",
              "    </div>\n",
              "  </div>\n",
              "  "
            ]
          },
          "metadata": {},
          "execution_count": 11
        }
      ]
    },
    {
      "cell_type": "code",
      "source": [
        "test_predictions = model.predict(normed_test_df)\n",
        "test_predictions"
      ],
      "metadata": {
        "colab": {
          "base_uri": "https://localhost:8080/"
        },
        "id": "3b69TkZpZUo6",
        "outputId": "4330784e-94da-440a-8ff6-605961bce751"
      },
      "execution_count": 12,
      "outputs": [
        {
          "output_type": "execute_result",
          "data": {
            "text/plain": [
              "array([[8.47223759e-01, 1.50346056e-01, 2.43018102e-03],\n",
              "       [9.42525089e-01, 2.04765480e-02, 3.69984210e-02],\n",
              "       [9.94878411e-01, 4.69310395e-03, 4.28478030e-04],\n",
              "       [8.79694641e-01, 9.43631865e-03, 1.10869095e-01],\n",
              "       [7.88386345e-01, 5.43594472e-02, 1.57254189e-01],\n",
              "       [5.85196376e-01, 4.02714282e-01, 1.20893400e-02],\n",
              "       [6.59877896e-01, 8.35031364e-03, 3.31771821e-01],\n",
              "       [9.42407012e-01, 4.23971266e-02, 1.51958521e-02],\n",
              "       [9.82459784e-01, 1.42077627e-02, 3.33248940e-03],\n",
              "       [9.78132844e-01, 8.01853463e-03, 1.38486698e-02],\n",
              "       [1.60022080e-02, 9.83819067e-01, 1.78754504e-04],\n",
              "       [4.89610173e-02, 9.50131655e-01, 9.07352311e-04],\n",
              "       [5.67453622e-04, 9.99432147e-01, 3.51436029e-07],\n",
              "       [1.28131106e-01, 8.70602787e-01, 1.26603048e-03],\n",
              "       [1.36684850e-02, 9.86286342e-01, 4.51827873e-05],\n",
              "       [1.59004133e-03, 9.98408377e-01, 1.72353566e-06],\n",
              "       [2.05845083e-03, 9.97938335e-01, 3.24756320e-06],\n",
              "       [1.12362043e-03, 9.98876154e-01, 2.49425284e-07],\n",
              "       [3.16282511e-02, 9.68333244e-01, 3.84156083e-05],\n",
              "       [5.00860950e-03, 9.94982064e-01, 9.32419334e-06],\n",
              "       [2.30643898e-02, 9.76921260e-01, 1.42865065e-05],\n",
              "       [4.35630791e-03, 9.95636642e-01, 7.00606961e-06],\n",
              "       [6.62720874e-02, 9.33597624e-01, 1.30289147e-04],\n",
              "       [6.48478344e-02, 1.68857386e-03, 9.33463573e-01],\n",
              "       [6.18624501e-02, 1.57872506e-03, 9.36558902e-01],\n",
              "       [3.20992827e-01, 1.00719964e-03, 6.77999973e-01],\n",
              "       [2.44158179e-01, 3.55184125e-03, 7.52289951e-01],\n",
              "       [8.85188162e-01, 5.32301434e-04, 1.14279583e-01],\n",
              "       [6.75514415e-02, 9.34529002e-04, 9.31514025e-01],\n",
              "       [8.03454220e-03, 7.32982153e-06, 9.91958141e-01],\n",
              "       [2.63023470e-02, 2.49274071e-05, 9.73672688e-01],\n",
              "       [3.91019555e-03, 3.57314411e-06, 9.96086240e-01],\n",
              "       [5.37859323e-03, 6.91050627e-06, 9.94614422e-01],\n",
              "       [1.14048151e-02, 5.66101835e-06, 9.88589525e-01],\n",
              "       [7.67039657e-02, 3.29744362e-05, 9.23263013e-01],\n",
              "       [5.19877523e-02, 7.30856555e-04, 9.47281420e-01],\n",
              "       [2.04145014e-01, 4.94115753e-04, 7.95360863e-01],\n",
              "       [5.25447913e-03, 4.50809375e-06, 9.94740963e-01],\n",
              "       [4.27916914e-01, 1.44064741e-03, 5.70642531e-01],\n",
              "       [4.63350505e-01, 7.24303862e-03, 5.29406428e-01],\n",
              "       [9.22486842e-01, 6.39437814e-04, 7.68736824e-02],\n",
              "       [2.23625317e-01, 4.93163607e-05, 7.76325405e-01]], dtype=float32)"
            ]
          },
          "metadata": {},
          "execution_count": 12
        }
      ]
    },
    {
      "cell_type": "code",
      "source": [
        "pred = []\n",
        "\n",
        "for i in range(len(test_predictions)):\n",
        "  pred.append(test_predictions[i].argmax())\n",
        "\n",
        "print(pred)"
      ],
      "metadata": {
        "colab": {
          "base_uri": "https://localhost:8080/"
        },
        "id": "tIUG7QAwZjgT",
        "outputId": "5bfb8498-339a-418f-9cee-3016bbe0d63d"
      },
      "execution_count": 13,
      "outputs": [
        {
          "output_type": "stream",
          "name": "stdout",
          "text": [
            "[0, 0, 0, 0, 0, 0, 0, 0, 0, 0, 1, 1, 1, 1, 1, 1, 1, 1, 1, 1, 1, 1, 1, 2, 2, 2, 2, 0, 2, 2, 2, 2, 2, 2, 2, 2, 2, 2, 2, 2, 0, 2]\n"
          ]
        }
      ]
    },
    {
      "cell_type": "code",
      "source": [
        "actual = [i for i in test_label]\n",
        "print(actual)"
      ],
      "metadata": {
        "colab": {
          "base_uri": "https://localhost:8080/"
        },
        "id": "tIR-HIblZziD",
        "outputId": "1bf6dbab-d2a8-4d2f-c1f3-4a2d7ccc0d6e"
      },
      "execution_count": 14,
      "outputs": [
        {
          "output_type": "stream",
          "name": "stdout",
          "text": [
            "[0, 0, 0, 0, 0, 0, 0, 0, 0, 0, 1, 1, 1, 1, 1, 1, 1, 1, 1, 1, 1, 1, 1, 2, 2, 2, 2, 2, 2, 2, 2, 2, 2, 2, 2, 2, 2, 2, 2, 2, 2, 2]\n"
          ]
        }
      ]
    },
    {
      "cell_type": "code",
      "source": [
        "con_mat = tf.math.confusion_matrix(labels=actual, predictions=pred).numpy()\n",
        "con_df = pd.DataFrame(con_mat)"
      ],
      "metadata": {
        "id": "bQoDwK0lZ7vD"
      },
      "execution_count": 15,
      "outputs": []
    },
    {
      "cell_type": "code",
      "source": [
        "import seaborn as sns\n",
        "\n",
        "sns.heatmap(con_df, annot=True, cmap=plt.cm.Blues)\n",
        "plt.tight_layout()\n",
        "plt.ylabel('True Label')\n",
        "plt.xlabel('Predicted Label')\n",
        "plt.show()"
      ],
      "metadata": {
        "colab": {
          "base_uri": "https://localhost:8080/",
          "height": 311
        },
        "id": "wNmSqwaPaTlo",
        "outputId": "327b2e98-7628-41e0-d45c-025eee41e9d7"
      },
      "execution_count": 16,
      "outputs": [
        {
          "output_type": "display_data",
          "data": {
            "text/plain": [
              "<Figure size 432x288 with 2 Axes>"
            ],
            "image/png": "[encoded data removed]"
          },
          "metadata": {
            "needs_background": "light"
          }
        }
      ]
    },
    {
      "cell_type": "code",
      "source": [],
      "metadata": {
        "id": "tJ42dOfnazDO"
      },
      "execution_count": 16,
      "outputs": []
    }
  ]
}